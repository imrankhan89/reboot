{
 "cells": [
  {
   "cell_type": "code",
   "execution_count": 1,
   "metadata": {
    "collapsed": false
   },
   "outputs": [
    {
     "name": "stdout",
     "output_type": "stream",
     "text": [
      "{'last name': 'Khan', 'first name': 'Imran', 'age': 28, 'city': 'Karachi'}\n",
      "{'last name': 'Khan', 'first name': 'Imran', 'age': 28, 'qualification': 'Master in Information and Network Security', 'city': 'Karachi'}\n",
      "{'last name': 'Khan', 'first name': 'Imran', 'age': 28, 'city': 'Karachi'}\n"
     ]
    }
   ],
   "source": [
    "#task 01\n",
    "basic_info = { \n",
    "    \"first name\": \"Imran\",\n",
    "    \"last name\" : \"Khan\",\n",
    "    \"age\"           : 28,\n",
    "    \"city\"          : \"Karachi\"\n",
    "}\n",
    "\n",
    "print(basic_info)\n",
    "\n",
    "basic_info[\"qualification\"]= \"Master in Information and Network Security\"\n",
    "print(basic_info)\n",
    "\n",
    "del basic_info[\"qualification\"]\n",
    "print(basic_info)"
   ]
  },
  {
   "cell_type": "code",
   "execution_count": 2,
   "metadata": {
    "collapsed": false
   },
   "outputs": [
    {
     "name": "stdout",
     "output_type": "stream",
     "text": [
      "{'country': 'Pakistan', 'fact': 'City of light !', 'population': 14.91}\n",
      "{'country': 'India', 'fact': 'City of dreams !', 'population': 18.41}\n",
      "{'country': 'Switzerland', 'fact': 'City of Beauty !', 'population': 1.83}\n"
     ]
    }
   ],
   "source": [
    "#task 02\n",
    "cities = {\n",
    "    \"Karachi\" : {\"country\": \"Pakistan\" ,\"population\" : 14.91,\n",
    "                 \"fact\": \"City of light !\"},\n",
    "    \n",
    "    \"Mumbai\"           : {\"country\" : \"India\" ,\"population\" : 18.41,\n",
    "                        \"fact\" : \"City of dreams !\"},\n",
    "    \n",
    "    \"Zurich\"    : {\"country\"      : \"Switzerland\" ,\"population\" : 1.83,\n",
    "                    \"fact\"            : \"City of Beauty !\"}\n",
    "}\n",
    "\n",
    "print(cities[\"Karachi\"])\n",
    "print(cities[\"Mumbai\"])\n",
    "print(cities[\"Zurich\"])"
   ]
  },
  {
   "cell_type": "code",
   "execution_count": 4,
   "metadata": {
    "collapsed": false
   },
   "outputs": [
    {
     "name": "stdout",
     "output_type": "stream",
     "text": [
      "\n",
      "Enter your age56\n",
      "Your ticket is $15 !\n"
     ]
    }
   ],
   "source": [
    " #task 03\n",
    "age = input(\"\\nEnter your age\")\n",
    "if age < 3:\n",
    "    print(\"Your ticket is free !\")\n",
    "elif age >=3 and age <=12:\n",
    "    print(\"Your ticket is $10 !\")\n",
    "elif age > 12:\n",
    "    print(\"Your ticket is $15 !\")"
   ]
  },
  {
   "cell_type": "code",
   "execution_count": 14,
   "metadata": {
    "collapsed": false
   },
   "outputs": [
    {
     "name": "stdout",
     "output_type": "stream",
     "text": [
      " One of my favorite books is Alice in Wonderland\n"
     ]
    }
   ],
   "source": [
    "#task 04\n",
    "def favorite_book(title):\n",
    "    print(\" One of my favorite books is \"+ title)\n",
    "\n",
    "favorite_book('Alice in Wonderland')"
   ]
  },
  {
   "cell_type": "code",
   "execution_count": 19,
   "metadata": {
    "collapsed": false
   },
   "outputs": [
    {
     "name": "stdout",
     "output_type": "stream",
     "text": [
      "Hello! What is your name?\n",
      "imran\n",
      "Well, imran, I am thinking of a number between 1 and 30.\n",
      "Take a guess.\n",
      "23\n",
      "Your guess is too low.\n",
      "Take a guess.\n",
      "28\n",
      "Your guess is too high.\n",
      "Take a guess.\n",
      "26\n",
      "Your guess is too high.\n",
      "Nope. The number I was thinking was 25\n"
     ]
    }
   ],
   "source": [
    "#task 05\n",
    "import random\n",
    "guessesTaken = 0\n",
    "print('Hello! What is your name?')\n",
    "myName = raw_input()\n",
    "number = rd.randint(1,30)\n",
    "print('Well, ' + myName + ', I am thinking of a number between 1 and 30.')\n",
    "while guessesTaken < 3:\n",
    "    print('Take a guess.')\n",
    "    guess = input()\n",
    "    guess = int(guess)\n",
    "    guessesTaken = guessesTaken + 1\n",
    "    \n",
    "    if guess < number:\n",
    "        print('Your guess is too low.')\n",
    "    if guess > number:\n",
    "        print('Your guess is too high.')\n",
    "    if guess == number:\n",
    "        break\n",
    "    if guess == number:\n",
    "        guessesTaken = str(guessesTaken)\n",
    "        print('Good job, ' + myName + '! You guessed my number in ' + guessesTaken + ' guesses!')\n",
    "    \n",
    "    \n",
    "if guess != number:\n",
    "    number = str(number)\n",
    "    print('Nope. The number I was thinking was ' + number)\n",
    "\n"
   ]
  },
  {
   "cell_type": "code",
   "execution_count": null,
   "metadata": {
    "collapsed": true
   },
   "outputs": [],
   "source": []
  }
 ],
 "metadata": {
  "kernelspec": {
   "display_name": "Python 2",
   "language": "python",
   "name": "python2"
  },
  "language_info": {
   "codemirror_mode": {
    "name": "ipython",
    "version": 2
   },
   "file_extension": ".py",
   "mimetype": "text/x-python",
   "name": "python",
   "nbconvert_exporter": "python",
   "pygments_lexer": "ipython2",
   "version": "2.7.11"
  }
 },
 "nbformat": 4,
 "nbformat_minor": 0
}
