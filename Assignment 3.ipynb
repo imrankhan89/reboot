{
 "cells": [
  {
   "cell_type": "code",
   "execution_count": 6,
   "metadata": {
    "collapsed": false
   },
   "outputs": [
    {
     "name": "stdout",
     "output_type": "stream",
     "text": [
      "Enter first value: 2\n",
      "Enter second value: 3\n",
      "Enter 1 for addition :\n",
      "Enter 2 for subtraction :\n",
      "Enter 3 for multiplication :\n",
      "Enter 4 for division :\n",
      "Enter 5 for power: \n",
      "Enter your choice: 5\n",
      "('The power is=', 8)\n"
     ]
    }
   ],
   "source": [
    "#Task 01\n",
    "num1 = input(\"Enter first value: \")\n",
    "num2 = input(\"Enter second value: \")\n",
    "\n",
    "print(\"Enter 1 for addition :\")\n",
    "print(\"Enter 2 for subtraction :\")\n",
    "print(\"Enter 3 for multiplication :\")\n",
    "print(\"Enter 4 for division :\")\n",
    "print(\"Enter 5 for power: \")\n",
    "option = input(\"Enter your choice: \")\n",
    "\n",
    "if option == 1:\n",
    "    print(\"The Addition is=\", num1+num2)\n",
    "elif option == 2:\n",
    "    print(\"The Subtraction is=\", num1-num2)\n",
    "elif option == 3:\n",
    "    print(\"The Multiplication is=\", num1*num2)\n",
    "elif option == 4:\n",
    "    print(\"The Divison is=\", num1/num2)\n",
    "elif option == 5:\n",
    "    print(\"The power is=\", pow(num1,num2))\n",
    "else :\n",
    "    print(\"Error\")\n"
   ]
  },
  {
   "cell_type": "code",
   "execution_count": 9,
   "metadata": {
    "collapsed": false
   },
   "outputs": [
    {
     "name": "stdout",
     "output_type": "stream",
     "text": [
      "('numeric no in list=', 3)\n"
     ]
    }
   ],
   "source": [
    "#Task 2\n",
    "list=[\"Imran\",\"m\",2,\"i\",5,7]\n",
    "a=0\n",
    "for i in list:\n",
    "    try:\n",
    "        num=int(i)\n",
    "        a+=1\n",
    "    except:\n",
    "        pass\n",
    "print(\"numeric no in list=\",a)\n",
    "\n"
   ]
  },
  {
   "cell_type": "code",
   "execution_count": 10,
   "metadata": {
    "collapsed": false
   },
   "outputs": [
    {
     "name": "stdout",
     "output_type": "stream",
     "text": [
      "{'age': 29, 'name': 'imran', 'class': 18}\n"
     ]
    }
   ],
   "source": [
    "#task 03\n",
    "dic = {\n",
    "    \"name\": 'imran',\n",
    "    \"age\" : 29 \n",
    "    }\n",
    "dic.update({\"class\":18})\n",
    "print(dic)\n"
   ]
  },
  {
   "cell_type": "code",
   "execution_count": 15,
   "metadata": {
    "collapsed": false
   },
   "outputs": [
    {
     "name": "stdout",
     "output_type": "stream",
     "text": [
      "('Sum =', 106)\n"
     ]
    }
   ],
   "source": [
    "#task 04\n",
    "result = 0\n",
    "d = {1: 2 ,2: \"Imran\", 3: 4, 4:\"Khan\", 5: 100}\n",
    "\n",
    "for value in d.values():\n",
    "    if type(value) == int:\n",
    "        result = result + value        \n",
    "        \n",
    "print(\"Sum =\",result)"
   ]
  },
  {
   "cell_type": "code",
   "execution_count": 32,
   "metadata": {
    "collapsed": false
   },
   "outputs": [
    {
     "name": "stdout",
     "output_type": "stream",
     "text": [
      "set([1, 2, 5])\n"
     ]
    }
   ],
   "source": [
    "#task 05\n",
    "a = [1,2,3,2,1,5,6,4,8,5]\n",
    "dup_items = set()\n",
    "for x in a:\n",
    "    if a.count(x)>1:\n",
    "        dup_items.add(x)\n",
    "print(dup_items)"
   ]
  },
  {
   "cell_type": "code",
   "execution_count": 48,
   "metadata": {
    "collapsed": false
   },
   "outputs": [
    {
     "name": "stdout",
     "output_type": "stream",
     "text": [
      "{given_key} Already exists\n"
     ]
    }
   ],
   "source": [
    "#task 6\n",
    "dic = { 1: \"key1\",2: \"key2\",3: \"key3\"}\n",
    "given_key = 3\n",
    "\n",
    "for key in dic.keys():\n",
    "    if key == given_key:\n",
    "        print(\"{given_key} Already exists\")\n",
    "        "
   ]
  },
  {
   "cell_type": "code",
   "execution_count": null,
   "metadata": {
    "collapsed": true
   },
   "outputs": [],
   "source": []
  }
 ],
 "metadata": {
  "kernelspec": {
   "display_name": "Python 2",
   "language": "python",
   "name": "python2"
  },
  "language_info": {
   "codemirror_mode": {
    "name": "ipython",
    "version": 2
   },
   "file_extension": ".py",
   "mimetype": "text/x-python",
   "name": "python",
   "nbconvert_exporter": "python",
   "pygments_lexer": "ipython2",
   "version": "2.7.11"
  }
 },
 "nbformat": 4,
 "nbformat_minor": 0
}
