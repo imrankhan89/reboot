{
 "cells": [
  {
   "cell_type": "code",
   "execution_count": 6,
   "metadata": {
    "collapsed": false
   },
   "outputs": [
    {
     "name": "stdout",
     "output_type": "stream",
     "text": [
      "Enter marks out of 100= 44\n",
      "Enter marks out of 100= 55\n",
      "Enter marks out of 100= 66\n",
      "Enter marks out of 100= 44\n",
      "Enter marks out of 100= 55\n",
      "('Obtained Marks =', 264)\n",
      "('Percentage =', 52)\n",
      "Grade D\n"
     ]
    }
   ],
   "source": [
    "#task 01\n",
    "totalmarks=500\n",
    "marks=[]\n",
    "obtainedmarks=0;\n",
    "for i in range (5):\n",
    "    a=input(\"Enter marks out of 100= \")\n",
    "    marks.append(a)\n",
    "    obtainedmarks=obtainedmarks+a\n",
    "\n",
    "print(\"Obtained Marks =\",obtainedmarks)  \n",
    "percentage=(obtainedmarks*100)/totalmarks\n",
    "print(\"Percentage =\",percentage)\n",
    "if percentage>=90:\n",
    "    print(\"Grade A-one\")\n",
    "elif percentage>=80:\n",
    "    print(\"Grade A\")\n",
    "elif percentage>=70:\n",
    "    print(\"Grade B\")    \n",
    "elif percentage>=60:\n",
    "    print(\"Grade C\") \n",
    "elif percentage>=50:\n",
    "    print(\"Grade D\")\n",
    "else:\n",
    "    print(\"Fail\")"
   ]
  },
  {
   "cell_type": "code",
   "execution_count": 8,
   "metadata": {
    "collapsed": false
   },
   "outputs": [
    {
     "name": "stdout",
     "output_type": "stream",
     "text": [
      "Enter a number to check : 5\n",
      "Number is odd !\n"
     ]
    }
   ],
   "source": [
    "#task 02\n",
    "num =input(\"Enter a number to check : \")\n",
    "if num%2 == 0:\n",
    "    print(\"Number is even !\")\n",
    "elif num%2 != 0:\n",
    "    print(\"Number is odd !\")"
   ]
  },
  {
   "cell_type": "code",
   "execution_count": 9,
   "metadata": {
    "collapsed": false
   },
   "outputs": [
    {
     "name": "stdout",
     "output_type": "stream",
     "text": [
      "8\n"
     ]
    }
   ],
   "source": [
    "#task 03\n",
    "list1=[1,2,3,4,5,6,7,8]\n",
    "print(len(list1))"
   ]
  },
  {
   "cell_type": "code",
   "execution_count": 10,
   "metadata": {
    "collapsed": false
   },
   "outputs": [
    {
     "name": "stdout",
     "output_type": "stream",
     "text": [
      "36\n"
     ]
    }
   ],
   "source": [
    "#task 04\n",
    "list1=[1,2,3,4,5,6,7,8]\n",
    "sum = 0\n",
    "for num in list1:\n",
    "    sum = sum + num\n",
    "    \n",
    "print(sum)"
   ]
  },
  {
   "cell_type": "code",
   "execution_count": 11,
   "metadata": {
    "collapsed": false
   },
   "outputs": [
    {
     "data": {
      "text/plain": [
       "8"
      ]
     },
     "execution_count": 11,
     "metadata": {},
     "output_type": "execute_result"
    }
   ],
   "source": [
    "#task 05\n",
    "list1=[1,2,3,4,5,6,7,8]\n",
    "max(list1)"
   ]
  },
  {
   "cell_type": "code",
   "execution_count": 13,
   "metadata": {
    "collapsed": false
   },
   "outputs": [
    {
     "name": "stdout",
     "output_type": "stream",
     "text": [
      "1\n",
      "1\n",
      "2\n",
      "3\n"
     ]
    }
   ],
   "source": [
    "#task 6\n",
    "list2=[1, 1, 2, 3, 5, 8, 13, 21, 34, 55, 89]\n",
    "for num in list2:\n",
    "    if num < 5:\n",
    "        print(num)"
   ]
  },
  {
   "cell_type": "code",
   "execution_count": null,
   "metadata": {
    "collapsed": true
   },
   "outputs": [],
   "source": []
  }
 ],
 "metadata": {
  "kernelspec": {
   "display_name": "Python 2",
   "language": "python",
   "name": "python2"
  },
  "language_info": {
   "codemirror_mode": {
    "name": "ipython",
    "version": 2
   },
   "file_extension": ".py",
   "mimetype": "text/x-python",
   "name": "python",
   "nbconvert_exporter": "python",
   "pygments_lexer": "ipython2",
   "version": "2.7.11"
  }
 },
 "nbformat": 4,
 "nbformat_minor": 0
}
