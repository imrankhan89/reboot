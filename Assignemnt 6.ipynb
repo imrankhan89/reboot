{
 "cells": [
  {
   "cell_type": "code",
   "execution_count": 1,
   "metadata": {
    "collapsed": true
   },
   "outputs": [],
   "source": [
    "# Task 1\n",
    "#\"Object-Oriented Programming (OOP) uses a different set of programming languages \n",
    "#than old procedural programming languages (C, Pascal, etc.). Everything in OOP is \n",
    "#grouped as self sustainable objects.\""
   ]
  },
  {
   "cell_type": "code",
   "execution_count": 2,
   "metadata": {
    "collapsed": true
   },
   "outputs": [],
   "source": [
    "# Task 2\n",
    "#Benefits of OOP\n",
    "#Simplicity\n",
    "# modularity\n",
    "#extensibility \n",
    "#reusability\n",
    "#Modifiability\n",
    "#Inheritance\n",
    "#Abstraction"
   ]
  },
  {
   "cell_type": "code",
   "execution_count": 3,
   "metadata": {
    "collapsed": true
   },
   "outputs": [],
   "source": [
    "#Task 3\n",
    "# The function takes up an input, does some internal calculations to the input, \n",
    "# and then provides a final result, with a change to the naming properties.while\n",
    "# Methods,are blocks of code which are created to contain a series of statements.\n"
   ]
  },
  {
   "cell_type": "code",
   "execution_count": 4,
   "metadata": {
    "collapsed": true
   },
   "outputs": [],
   "source": [
    "#Task 4\n",
    "#Class\n",
    "# A class is simply a representation of a type of object. It is the blueprint, or plan, \n",
    "#or template, that describes the details of an object.\n",
    "# Object\n",
    "# An object can be considered a \"thing\" that can perform a set of related activities. \n",
    "#The set of activities that the object performs defines the object's behavior. \n",
    "#Attributes\n",
    "#Class attributes are attributes which are owned by the class itself. They will be \n",
    "#shared by all the instances of the class. Therefore they have the same value for \n",
    "#every instance.\n",
    "#Behavior\n",
    "# The behavior of an object is defined by its methods, which are the functions and \n",
    "# subroutines defined within the object"
   ]
  },
  {
   "cell_type": "code",
   "execution_count": 18,
   "metadata": {
    "collapsed": false
   },
   "outputs": [],
   "source": [
    "#Task 05\n",
    "class Car():\n",
    "    # Init method\n",
    "    def __init__(self, name, model, color, company, condition):\n",
    "        self.name = name\n",
    "        self.model = model\n",
    "        self.color = color\n",
    "        self.company = company\n",
    "        self.condition = condition\n",
    "        \n",
    "    # show_properties method\n",
    "    def show_properties(self):\n",
    "        print(\"Car Properties\")\n",
    "        print(\"Name         : \"+self.name+\"\")\n",
    "        print(\"Model        : \"+self.model+\"\")\n",
    "        print(\"Color        : \"+self.color+\"\")\n",
    "        print(\"Company      : \"+self.company+\"\")\n",
    "        print(\"Condition    : \"+self.condition+\"\\n\")\n",
    "        \n",
    "    \n",
    "    # update_name method\n",
    "    def update_name(self, newname):\n",
    "        self.name = newname\n",
    "    \n",
    "    # update_color method\n",
    "    def update_color(self, newcolor):\n",
    "        self.color = newcolor"
   ]
  },
  {
   "cell_type": "code",
   "execution_count": 20,
   "metadata": {
    "collapsed": false
   },
   "outputs": [
    {
     "name": "stdout",
     "output_type": "stream",
     "text": [
      "Car Properties\n",
      "Name         : Cultus\n",
      "Model        : 2009\n",
      "Color        : Black\n",
      "Company      : Honda\n",
      "Condition    : Good\n",
      "\n",
      "Car Properties\n",
      "Name         : Alto\n",
      "Model        : 2009\n",
      "Color        : Brown\n",
      "Company      : Diahatsu\n",
      "Condition    : Good\n",
      "\n",
      "Car Properties\n",
      "Name         : Corolla\n",
      "Model        : 2006\n",
      "Color        : Black\n",
      "Company      : Toyota\n",
      "Condition    : Bad\n",
      "\n",
      "Car Properties\n",
      "Name         : Mehran\n",
      "Model        : 2005\n",
      "Color        : Grey\n",
      "Company      : Suzuki\n",
      "Condition    : Good\n",
      "\n",
      "Car Properties\n",
      "Name         : City\n",
      "Model        : 2018\n",
      "Color        : White\n",
      "Company      : Honda\n",
      "Condition    : Bad\n",
      "\n"
     ]
    }
   ],
   "source": [
    "car1 = Car(\"Cultus\", \"2009\", \"Black\", \"Honda\", \"Good\")\n",
    "car2 = Car(\"Alto\", \"2009\", \"Brown\", \"Diahatsu\", \"Good\")\n",
    "car3 = Car(\"Corolla\", \"2006\", \"Black\", \"Toyota\", \"Bad\")\n",
    "car4 = Car(\"Mehran\", \"2005\", \"Grey\", \"Suzuki\", \"Good\")\n",
    "car5 = Car(\"City\", \"2018\", \"White\", \"Honda\", \"Bad\")\n",
    "car1.show_properties()\n",
    "car2.show_properties()\n",
    "car3.show_properties()\n",
    "car4.show_properties()\n",
    "car5.show_properties()"
   ]
  },
  {
   "cell_type": "code",
   "execution_count": null,
   "metadata": {
    "collapsed": true
   },
   "outputs": [],
   "source": []
  }
 ],
 "metadata": {
  "kernelspec": {
   "display_name": "Python 2",
   "language": "python",
   "name": "python2"
  },
  "language_info": {
   "codemirror_mode": {
    "name": "ipython",
    "version": 2
   },
   "file_extension": ".py",
   "mimetype": "text/x-python",
   "name": "python",
   "nbconvert_exporter": "python",
   "pygments_lexer": "ipython2",
   "version": "2.7.11"
  }
 },
 "nbformat": 4,
 "nbformat_minor": 0
}
