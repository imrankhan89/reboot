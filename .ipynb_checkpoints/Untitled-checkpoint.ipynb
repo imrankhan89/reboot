{
 "cells": [
  {
   "cell_type": "code",
   "execution_count": 3,
   "metadata": {
    "collapsed": false
   },
   "outputs": [
    {
     "name": "stdout",
     "output_type": "stream",
     "text": [
      "Twinkle,twinkle little star,\n",
      "\t How are wonder what you are!\n",
      "\t\tUp above the world so high,\n",
      "\t\tLike a diamond in the sky\n",
      "Twinkle,twinkle little star,\n",
      "\t How are wonder what you are!\n"
     ]
    }
   ],
   "source": [
    "print(\"Twinkle,twinkle little star,\\n\\t How are wonder what you are!\\n\\t\\tUp above the world so high,\\n\\t\\tLike a diamond in the sky\\nTwinkle,twinkle little star,\\n\\t How are wonder what you are!\")\n"
   ]
  },
  {
   "cell_type": "code",
   "execution_count": 4,
   "metadata": {
    "collapsed": false
   },
   "outputs": [
    {
     "name": "stdout",
     "output_type": "stream",
     "text": [
      "2.7.11 |Anaconda 4.0.0 (64-bit)| (default, Feb 16 2016, 09:58:36) [MSC v.1500 64 bit (AMD64)]\n"
     ]
    }
   ],
   "source": [
    "import sys\n",
    "print(sys.version)"
   ]
  },
  {
   "cell_type": "code",
   "execution_count": 9,
   "metadata": {
    "collapsed": false
   },
   "outputs": [
    {
     "name": "stdout",
     "output_type": "stream",
     "text": [
      "('Current date and time: ', datetime.datetime(2019, 11, 4, 19, 28, 1, 59000))\n"
     ]
    }
   ],
   "source": [
    "import time\n",
    "import datetime\n",
    "print(\"Current date and time: \" , datetime.datetime.now())"
   ]
  },
  {
   "cell_type": "code",
   "execution_count": 16,
   "metadata": {
    "collapsed": false
   },
   "outputs": [
    {
     "name": "stdout",
     "output_type": "stream",
     "text": [
      "Enter the value of radius=2\n",
      "('Area of circle is=', 12.566370614359172)\n"
     ]
    }
   ],
   "source": [
    "import math\n",
    "a=math.pi\n",
    "b=input(\"Enter the value of radius=\")\n",
    "c=a*(b**2)\n",
    "print(\"Area of circle is=\",c )\n",
    "\n"
   ]
  },
  {
   "cell_type": "code",
   "execution_count": 32,
   "metadata": {
    "collapsed": false
   },
   "outputs": [
    {
     "name": "stdout",
     "output_type": "stream",
     "text": [
      "Enter First Name=imran\n",
      "Enter Last Name=khan\n",
      "['i', 'm', 'r', 'a', 'n']\n",
      "['k', 'h', 'a', 'n']\n",
      "['n', 'a', 'r', 'm', 'i']\n",
      "['n', 'a', 'h', 'k']\n"
     ]
    }
   ],
   "source": [
    "x=raw_input(\"Enter First Name=\")\n",
    "y=raw_input(\"Enter Last Name=\")\n",
    "lst1=list(x)\n",
    "lst2=list(y)\n",
    "print(lst1)\n",
    "print(lst2)\n",
    "lst1.reverse()\n",
    "lst2.reverse()\n",
    "print lst1\n",
    "print lst2\n"
   ]
  },
  {
   "cell_type": "code",
   "execution_count": 37,
   "metadata": {
    "collapsed": false
   },
   "outputs": [
    {
     "name": "stdout",
     "output_type": "stream",
     "text": [
      "Enter number 1= 5\n",
      "Enter number 2= 4\n",
      "('sum of numbers', 9)\n"
     ]
    }
   ],
   "source": [
    "number1= input(\"Enter number 1= \")\n",
    "number2= input(\"Enter number 2= \")\n",
    "print(\"sum of numbers\", number1 + number2)\n"
   ]
  },
  {
   "cell_type": "code",
   "execution_count": null,
   "metadata": {
    "collapsed": true
   },
   "outputs": [],
   "source": []
  }
 ],
 "metadata": {
  "kernelspec": {
   "display_name": "Python 2",
   "language": "python",
   "name": "python2"
  },
  "language_info": {
   "codemirror_mode": {
    "name": "ipython",
    "version": 2
   },
   "file_extension": ".py",
   "mimetype": "text/x-python",
   "name": "python",
   "nbconvert_exporter": "python",
   "pygments_lexer": "ipython2",
   "version": "2.7.11"
  }
 },
 "nbformat": 4,
 "nbformat_minor": 0
}
